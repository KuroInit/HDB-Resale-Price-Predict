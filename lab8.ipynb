{
 "cells": [
  {
   "cell_type": "markdown",
   "metadata": {},
   "source": [
    "## 8-Puzzle Game\n",
    "\n",
    "> ### Overview\n",
    "The 8-Puzzle game consists of a 3x3 grid with 9 spaces consisting of 8 numbered tiles and one empty space. The game's initial state is a random order with the aim of the goal being to reach the desired goal state. The game is restricted by these following rules:\n",
    "\n",
    "1. Goal: Go from *Initial State* to *Goal State*\n",
    "2. Legal Actions: Up, Down, Left,Right\n",
    "    - Only one tile to be moved at one time.\n",
    "    - Tiles can only move if adjacent to empty space in current state\n",
    "\n",
    "The game can be implemented as a search problem with th eplayer searching for a path from the *Initial State* to the *Goal State* by rearranging the tiles.\n",
    "\n",
    "![Tux, the Linux mascot](assets/8-puzzle.png)"
   ]
  },
  {
   "cell_type": "markdown",
   "metadata": {},
   "source": [
    "> ### A* Algorithm\n",
    "\n",
    "Heuristics are *informed* problem-solving methods, this means that they use an esitmation fo the fastest path to the solution. This time efficient solution is based on a simple set of given rules *(i.e in our case being the rules of the puzzle)*\n",
    "\n",
    "The A* Algorithm is an algorithm that employs heuristic functions to find the path in a state tree with the lowest cost from the *Initial State* to *Goal State*. The algorithm keeps track of all nodes visited and does not explore paths with a higher cost.\n",
    "\n",
    "> ### Function behind A* Algorithm\n",
    "\n",
    "The function uses the following function to estimate the cost of every move.\n",
    "\n",
    "``` f(n) = g(n) + h(n) ```\n",
    "\n",
    "__*f(n)*__: Total cost of path through node *n* </br>\n",
    "__*g(n)*__: Sum of costs so far to node *n* </br>\n",
    "__*h(n)*__: Estimated cost from node *n* to *Goal State*\n",
    "- Can be calculated using Manhatten Distance from node *n* to *Goal State*.\n",
    "- Sum of distance of vertical and horizontal steps between two points.\n",
    "\n",
    "> ### Types of Heuristic Functions\n",
    "1. *h<sub>1</sub>(n)* : Number of misplaced tiles\n",
    "2. *h<sub>2</sub>(n)* : sum of Manhatten Distance for every tile from *Current State* to *Goal State*\n",
    "\n",
    "> ### Reason behind Admission of Fucntions:\n",
    "1. Both functions do not overestimate the cost of moves to *Goal State*\n",
    "2. h<sub>1</sub>\n",
    "    - *Initital State* will always be misplaced and will have to be moved to reach goal state\n",
    "3. h<sub>2</sub>\n",
    "    - Every move made by agent will be one step closer to *Goal State*\n",
    "4. Our goal is to minimize both H<sub>1</sub> and H<sub>2</sub>, bringing us closer to goal state"
   ]
  },
  {
   "cell_type": "markdown",
   "metadata": {},
   "source": [
    "### 8-Puzzle Solver: Implementing A* Algorithm"
   ]
  },
  {
   "cell_type": "code",
   "execution_count": 20,
   "metadata": {},
   "outputs": [],
   "source": [
    "import time\n",
    "from heapq import heappush, heappop\n",
    "from collections import deque\n",
    "from math import sqrt"
   ]
  },
  {
   "cell_type": "markdown",
   "metadata": {},
   "source": [
    "> ### Defining State of Puzzle"
   ]
  },
  {
   "cell_type": "code",
   "execution_count": 21,
   "metadata": {},
   "outputs": [],
   "source": [
    "class State:\n",
    "    def __init__(self, state, parent, move, depth, cost, key):\n",
    "        self.state = state\n",
    "        self.parent = parent\n",
    "        self.move = move\n",
    "        self.depth = depth\n",
    "        self.cost = cost\n",
    "        self.key = key\n",
    "        if self.state:\n",
    "                self.map = ''.join(str(e) for e in self.state)\n",
    "\n",
    "    def __eq__(self,other):\n",
    "        return self.map == other.map\n",
    "\n",
    "    def __lt__(self,other):\n",
    "        return self.map < other.map"
   ]
  },
  {
   "cell_type": "markdown",
   "metadata": {},
   "source": [
    "> ### Inititializing *Goal State*, *Initial State* other parameters"
   ]
  },
  {
   "cell_type": "code",
   "execution_count": 22,
   "metadata": {},
   "outputs": [],
   "source": [
    "goal_state = [1,2,3,4,5,6,7,8,0]\n",
    "goal_node = State\n",
    "init_state = []\n",
    "puzzle_len = 9\n",
    "puzzle_side = 0\n",
    "nodes_expanded = 0\n",
    "maxDepthReached = 0\n",
    "maxfringeSize = 0\n",
    "moves = []"
   ]
  },
  {
   "cell_type": "markdown",
   "metadata": {},
   "source": [
    "> ### Agent Implementation\n",
    "#### A* search algorithm\n",
    "- input parameters:\n",
    "    1. StartState\n",
    "        - Input array (i.e. [0,7,5,3,2,4,6,1])\n",
    "    2. Heuristic Functions *h<sub>n</sub>(n)*"
   ]
  },
  {
   "cell_type": "code",
   "execution_count": 23,
   "metadata": {},
   "outputs": [],
   "source": [
    "def astar(startState, heuristicFunc):\n",
    "    global goalNode, maxFringeSize, maxDepthReached\n",
    "    visited, pQueue = set(), list()\n",
    "    key = heuristicFunc(startState)\n",
    "    root = State(startState, None, None, 0, 0, key)\n",
    "    entry = (key, 0, root)\n",
    "    heappush(pQueue, entry)\n",
    "    while pQueue:\n",
    "        node = heappop(pQueue)\n",
    "        visited.add(node[2].map)\n",
    "        if node[2].state == goal_state:\n",
    "            goalNode = node[2]\n",
    "            return True, pQueue\n",
    "        neighbors = expand(node[2])\n",
    "        for neighbor in neighbors:\n",
    "            neighbor.key = neighbor.cost + heuristicFunc(neighbor.state)\n",
    "            entry = (neighbor.key, neighbor.move, neighbor)\n",
    "            if neighbor.map not in visited:\n",
    "                heappush(pQueue, entry)\n",
    "                visited.add(neighbor.map)\n",
    "                if neighbor.depth > maxDepthReached:\n",
    "                    maxDepthReached += 1                    \n",
    "        if len(pQueue) > maxFringeSize:\n",
    "            maxFringeSize = len(pQueue)\n",
    "    return False, None"
   ]
  },
  {
   "cell_type": "markdown",
   "metadata": {},
   "source": [
    "#### Heuristic Functions"
   ]
  },
  {
   "cell_type": "code",
   "execution_count": 24,
   "metadata": {},
   "outputs": [],
   "source": [
    "def h1(state):\n",
    "    count = 0\n",
    "    for i in range(0, 9):\n",
    "        if not (state.index(i) == goal_state.index(i)) : \n",
    "            count+=1\n",
    "    return count "
   ]
  },
  {
   "cell_type": "code",
   "execution_count": 25,
   "metadata": {},
   "outputs": [],
   "source": [
    "def h2(state): \n",
    "    return sum(abs(p%puzzle_side - g%puzzle_side) + abs(p//puzzle_side - g//puzzle_side)\n",
    "               for p,g in ((state.index(i),goal_state.index(i)) \n",
    "               for i in range(1, 9))) "
   ]
  },
  {
   "cell_type": "code",
   "execution_count": 31,
   "metadata": {},
   "outputs": [],
   "source": [
    "def legalMove(state, position):\n",
    "    # Function to check that the move is legal\n",
    "    newState = state[:]\n",
    "    index = newState.index(0) \n",
    "    if position == 'UP': \n",
    "        if index not in range(0, puzzle_side):           \n",
    "            temp = newState[index - puzzle_side]\n",
    "            newState[index - puzzle_side] = newState[index]\n",
    "            newState[index] = temp\n",
    "            return newState\n",
    "        else:\n",
    "            return None\n",
    "    if position == 'DOWN':        \n",
    "        if index not in range(puzzle_len - puzzle_side, puzzle_len):\n",
    "            temp = newState[index + puzzle_side]\n",
    "            newState[index + puzzle_side] = newState[index]\n",
    "            newState[index] = temp\n",
    "            return newState\n",
    "        else:\n",
    "            return None\n",
    "    if position == 'LEFT': \n",
    "        if index not in range(0, puzzle_len, puzzle_side):\n",
    "            temp = newState[index - 1]\n",
    "            newState[index - 1] = newState[index]\n",
    "            newState[index] = temp\n",
    "            return newState\n",
    "        else:\n",
    "            return None\n",
    "    if position == 'RIGHT': \n",
    "        if index not in range(puzzle_side - 1, puzzle_len, puzzle_side):\n",
    "            temp = newState[index + 1]\n",
    "            newState[index + 1] = newState[index]\n",
    "            newState[index] = temp\n",
    "            return newState\n",
    "        else:\n",
    "            return None"
   ]
  },
  {
   "cell_type": "code",
   "execution_count": 32,
   "metadata": {},
   "outputs": [],
   "source": [
    "def expand(node):\n",
    "    global nodesExpanded\n",
    "    nodesExpanded += 1\n",
    "    childNodes = []\n",
    "    childNodes.append(State(legalMove(node.state,'DOWN'),node,'DOWN',node.depth + 1, node.cost + 1, 0)) \n",
    "    childNodes.append(State(legalMove(node.state,'LEFT'),node,'LOW',node.depth + 1, node.cost + 1, 0)) \n",
    "    childNodes.append(State(legalMove(node.state,'RIGHT'),node,'RIGHT',node.depth + 1, node.cost + 1, 0))\n",
    "    childNodes.append(State(legalMove(node.state,'UP'),node,'UP',node.depth + 1, node.cost + 1, 0))\n",
    "    nodes = [child for child in childNodes if child.state]\n",
    "    return nodes"
   ]
  },
  {
   "cell_type": "code",
   "execution_count": 36,
   "metadata": {},
   "outputs": [],
   "source": [
    "def get(dataList):\n",
    "    global puzzle_len, puzzle_side\n",
    "    data = dataList.split(',') \n",
    "    for element in data:\n",
    "        init_state.append(int(element))\n",
    "    puzzle_len = len(init_state)                  \n",
    "    puzzle_side = int(sqrt(puzzle_len))"
   ]
  },
  {
   "cell_type": "code",
   "execution_count": 35,
   "metadata": {},
   "outputs": [],
   "source": [
    "def backtrack():\n",
    "    currentNode = goalNode\n",
    "    while init_state != currentNode.state : \n",
    "        moves.insert(0, currentNode.move)\n",
    "        currentNode = currentNode.parent\n",
    "    return moves"
   ]
  },
  {
   "cell_type": "code",
   "execution_count": 37,
   "metadata": {},
   "outputs": [],
   "source": [
    "def output(fringe, time, testNum):\n",
    "    if fringe:\n",
    "        global moves\n",
    "        moves = backtrack()\n",
    "        print(\"<-- # SOLUTION DETAILS # -->\")\n",
    "        print(\"\\n Initial State: \"+str(init_state))\n",
    "        print(\"\\n Path to goal: \" + str(moves))\n",
    "        print(\"\\n Cost(Moves): \" + str(len(moves)))\n",
    "        print(\"\\n Node count: \" + str(nodesExpanded))\n",
    "        print(\"\\n Fringe size: \" + str(len(fringe)))\n",
    "        print(\"\\n Tree depth: \" + str(goalNode.depth))\n",
    "        print(\"\\n Run time: \" + format(time, '.8f'))\n",
    "    else:\n",
    "        print(\"<-- # NO SOLUTION # -->\")\n",
    "        print(\"\\n Node count: \" + str(nodesExpanded))\n",
    "        print(\"\\n Max fringe: \" + str(maxFringeSize))\n",
    "        print(\"\\n Max tree depth: \" + str(maxDepthReached))\n",
    "        print(\"\\n Run time: \" + format(time, '.8f'))"
   ]
  },
  {
   "cell_type": "code",
   "execution_count": 38,
   "metadata": {},
   "outputs": [],
   "source": [
    "def main():\n",
    "    heuristic_map = {'h1' : h1,'h2' : h2}\n",
    "    while True:\n",
    "        heuristic = input('WELCOME TO 8-PUZZLE SOLVER USING A* ALGORITHM! \\\n",
    "        \\n\\\n",
    "        \\n--> Please select a heuristic function:\\\n",
    "        \\n h1: number of misplaces tiles\\\n",
    "        \\n h2: sum of Manhattan distance for every tile from current to goal state \\\n",
    "        \\n-- Enter your choice: ')\n",
    "        if(heuristic == 'h1' or heuristic == 'h2'):\n",
    "            heuristicFunc = heuristic_map[heuristic]\n",
    "            break\n",
    "        print(\"Please type 'h1' or 'h2'.\")\n",
    "        \n",
    "        \n",
    "    data = input('--> Enter puzzle elements: ')    \n",
    "    get(data)\n",
    "    function = astar \n",
    "    start = time.time()       \n",
    "    search, fringe = function(init_state, heuristicFunc)  \n",
    "    stop = time.time()\n",
    "    if not search : \n",
    "        output(fringe, stop-start, 'No_Solution')\n",
    "    else : \n",
    "        output(fringe, stop-start, 'h2')"
   ]
  }
 ],
 "metadata": {
  "kernelspec": {
   "display_name": ".lab8",
   "language": "python",
   "name": "python3"
  },
  "language_info": {
   "codemirror_mode": {
    "name": "ipython",
    "version": 3
   },
   "file_extension": ".py",
   "mimetype": "text/x-python",
   "name": "python",
   "nbconvert_exporter": "python",
   "pygments_lexer": "ipython3",
   "version": "3.10.6"
  }
 },
 "nbformat": 4,
 "nbformat_minor": 2
}
